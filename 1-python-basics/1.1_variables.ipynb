{
 "cells": [
  {
   "cell_type": "code",
   "execution_count": 45,
   "id": "70f39712",
   "metadata": {},
   "outputs": [
    {
     "name": "stdout",
     "output_type": "stream",
     "text": [
      "is human: True\n",
      "<class 'bool'>\n"
     ]
    }
   ],
   "source": [
    "# declaring and assigning variables\n",
    "is_human = True\n",
    "print(\"is human:\",is_human)\n",
    "# True = \"false\"\n",
    "print(type(is_human))"
   ]
  },
  {
   "cell_type": "code",
   "execution_count": null,
   "id": "85eec98a",
   "metadata": {},
   "outputs": [
    {
     "name": "stdout",
     "output_type": "stream",
     "text": [
      "type of age in string  Aman kumar\n",
      "type of type of age in string <class 'type'>\n"
     ]
    }
   ],
   "source": [
    "# type conversion\n",
    "age = 21\n",
    "age_str = str(age)\n",
    "age_str_type = type(age_str)\n",
    "print(\"type of age in string \", age_str_type.capitalize(\"aman kumar\"))\n",
    "print(\"type of type of age in string\",type(type(age_str)))"
   ]
  },
  {
   "cell_type": "code",
   "execution_count": null,
   "id": "019cbab7",
   "metadata": {},
   "outputs": [
    {
     "name": "stdout",
     "output_type": "stream",
     "text": [
      "False\n",
      "0\n",
      "21.5\n",
      "21\n",
      "4\n",
      "<class 'str'>\n"
     ]
    }
   ],
   "source": [
    "dob = 50104\n",
    "age = 21.5\n",
    "age_str = '21.50'\n",
    "name = \"Vineet\"\n",
    "is_male = True\n",
    "\n",
    "print(bool(0))\n",
    "print(int(not is_human))\n",
    "print(age)\n",
    "print(int(age))\n",
    "print(str(dob).index(\"4\"))\n",
    "# print(int (age_str)) # since age_str has decimal value, it can't be parsed. \n",
    "# variables from different cells can be referenced in other cells.\n",
    "print(age_str_type)"
   ]
  },
  {
   "cell_type": "code",
   "execution_count": 82,
   "id": "e99665ab",
   "metadata": {},
   "outputs": [
    {
     "name": "stdout",
     "output_type": "stream",
     "text": [
      "0\n",
      "0.0\n",
      "False\n",
      "\n"
     ]
    }
   ],
   "source": [
    "print(int())\n",
    "print(float())\n",
    "print(bool())\n",
    "print(str())"
   ]
  },
  {
   "cell_type": "code",
   "execution_count": null,
   "id": "cf6ed45b",
   "metadata": {},
   "outputs": [],
   "source": []
  }
 ],
 "metadata": {
  "kernelspec": {
   "display_name": "Python 3",
   "language": "python",
   "name": "python3"
  },
  "language_info": {
   "codemirror_mode": {
    "name": "ipython",
    "version": 3
   },
   "file_extension": ".py",
   "mimetype": "text/x-python",
   "name": "python",
   "nbconvert_exporter": "python",
   "pygments_lexer": "ipython3",
   "version": "3.12.11"
  }
 },
 "nbformat": 4,
 "nbformat_minor": 5
}
