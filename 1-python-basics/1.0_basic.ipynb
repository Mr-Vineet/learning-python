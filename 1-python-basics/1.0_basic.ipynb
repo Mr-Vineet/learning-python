{
 "cells": [
  {
   "cell_type": "markdown",
   "id": "5599cb14",
   "metadata": {},
   "source": [
    "### Python Basics"
   ]
  },
  {
   "cell_type": "code",
   "execution_count": null,
   "id": "2218dddf",
   "metadata": {},
   "outputs": [],
   "source": [
    "name = 'vineet'\n",
    "print(name)"
   ]
  },
  {
   "cell_type": "code",
   "execution_count": null,
   "id": "03b1d617",
   "metadata": {},
   "outputs": [
    {
     "name": "stdout",
     "output_type": "stream",
     "text": [
      "hello\n"
     ]
    }
   ],
   "source": [
    "floor = 2//3\n",
    "floor = \"hello\"\n",
    "\n",
    "print(floor)"
   ]
  },
  {
   "cell_type": "code",
   "execution_count": null,
   "id": "8cf604b9",
   "metadata": {},
   "outputs": [
    {
     "name": "stdout",
     "output_type": "stream",
     "text": [
      "7\n"
     ]
    }
   ],
   "source": [
    "# Line continuation\n",
    "total = 1 + 2\\\n",
    "* 3\n",
    "\n",
    "print(total)"
   ]
  },
  {
   "cell_type": "code",
   "execution_count": 14,
   "id": "e2091148",
   "metadata": {},
   "outputs": [
    {
     "name": "stdout",
     "output_type": "stream",
     "text": [
      "21\n",
      "21\n"
     ]
    }
   ],
   "source": [
    "name = age = 21; \n",
    "print(name)\n",
    "print(age)"
   ]
  },
  {
   "cell_type": "code",
   "execution_count": 21,
   "id": "1982fb9a",
   "metadata": {},
   "outputs": [
    {
     "name": "stdout",
     "output_type": "stream",
     "text": [
      "<class 'int'>\n",
      "<class 'str'>\n",
      "<class 'int'>\n",
      "<class 'float'>\n"
     ]
    }
   ],
   "source": [
    "# Type Inference\n",
    "\n",
    "name = \"Vineet\"; age = 21; weight = 50.5\n",
    "print(type(1))\n",
    "print(type(name))\n",
    "print(type(age))\n",
    "print(type(weight))"
   ]
  },
  {
   "cell_type": "code",
   "execution_count": null,
   "id": "97b2e2c1",
   "metadata": {},
   "outputs": [
    {
     "name": "stdout",
     "output_type": "stream",
     "text": [
      "condition is true\n",
      "outside if block\n"
     ]
    }
   ],
   "source": [
    "if True:\n",
    "    print(\"condition is true\")\n",
    "    if '' == 0:\n",
    "        print(\"empty string is equal to zero.\")\n",
    "print(\"outside if block\")"
   ]
  }
 ],
 "metadata": {
  "kernelspec": {
   "display_name": "Python 3",
   "language": "python",
   "name": "python3"
  },
  "language_info": {
   "codemirror_mode": {
    "name": "ipython",
    "version": 3
   },
   "file_extension": ".py",
   "mimetype": "text/x-python",
   "name": "python",
   "nbconvert_exporter": "python",
   "pygments_lexer": "ipython3",
   "version": "3.12.11"
  }
 },
 "nbformat": 4,
 "nbformat_minor": 5
}
