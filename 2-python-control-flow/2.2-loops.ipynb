{
 "cells": [
  {
   "cell_type": "code",
   "execution_count": null,
   "id": "b48f286a",
   "metadata": {},
   "outputs": [
    {
     "data": {
      "text/plain": [
       "9"
      ]
     },
     "execution_count": 14,
     "metadata": {},
     "output_type": "execute_result"
    }
   ],
   "source": [
    "range(10, 100, 10).__len__()"
   ]
  },
  {
   "cell_type": "code",
   "execution_count": null,
   "id": "cdfa1c98",
   "metadata": {},
   "outputs": [
    {
     "name": "stdout",
     "output_type": "stream",
     "text": [
      "10\n",
      "9\n",
      "8\n",
      "7\n",
      "6\n",
      "5\n",
      "4\n",
      "3\n",
      "2\n"
     ]
    }
   ],
   "source": [
    "for num in range(0, 10, 1):\n",
    "    print(num * 2)\n",
    "\n",
    "for num in range(10, 1, -1):\n",
    "    print(num)"
   ]
  },
  {
   "cell_type": "code",
   "execution_count": 22,
   "id": "94de86d6",
   "metadata": {},
   "outputs": [
    {
     "name": "stdout",
     "output_type": "stream",
     "text": [
      "V\n",
      "I\n",
      "N\n",
      "E\n",
      "E\n",
      "T\n"
     ]
    }
   ],
   "source": [
    "name = \"Vineet\"\n",
    "\n",
    "for letter in name:\n",
    "    print(letter.upper())\n"
   ]
  },
  {
   "cell_type": "code",
   "execution_count": null,
   "id": "3a8c8de0",
   "metadata": {},
   "outputs": [
    {
     "name": "stdout",
     "output_type": "stream",
     "text": [
      "6 not a prime number\n"
     ]
    }
   ],
   "source": [
    "# check if a num is prime\n",
    "\n",
    "num = int(input(\"Enter the number\"))\n",
    "factor = 2\n",
    "\n",
    "while(factor < num):\n",
    "    if num % factor == 0:\n",
    "        print(f\"{num} not a prime number\")\n",
    "        break\n",
    "    factor += 1\n",
    "\n",
    "if(num < 2):\n",
    "    print(f\"{num} is not a prime number\")\n",
    "\n",
    "if(factor == num):\n",
    "    print(f\"{num} is a prime number\")\n",
    "    \n",
    "# pass #null operation just does nothing"
   ]
  },
  {
   "cell_type": "code",
   "execution_count": null,
   "id": "ba2bc6e1",
   "metadata": {},
   "outputs": [
    {
     "name": "stdout",
     "output_type": "stream",
     "text": [
      "sum of 0 natural numbers is 0\n"
     ]
    }
   ],
   "source": [
    "# calculate the sum of n natural numbers using while and for loop\n",
    "n = 0\n",
    "sum = 0\n",
    "\n",
    "for factor in range(n + 1):\n",
    "    sum += factor\n",
    "\n",
    "print(f\"sum of {n} natural numbers is {sum}\")"
   ]
  },
  {
   "cell_type": "code",
   "execution_count": null,
   "id": "5d97f6f2",
   "metadata": {},
   "outputs": [
    {
     "name": "stdout",
     "output_type": "stream",
     "text": [
      "2\n",
      "3\n",
      "5\n",
      "7\n",
      "11\n",
      "13\n",
      "17\n",
      "19\n",
      "23\n",
      "29\n",
      "31\n",
      "37\n",
      "41\n",
      "43\n",
      "47\n",
      "53\n",
      "59\n",
      "61\n",
      "67\n",
      "71\n",
      "73\n",
      "79\n",
      "83\n",
      "89\n",
      "97\n"
     ]
    }
   ],
   "source": [
    "# prime num between 1 and 100\n",
    "primeCandidate = 1\n",
    "\n",
    "while (primeCandidate <= 100):\n",
    "    if(primeCandidate > 1):\n",
    "        for factor in range(2, primeCandidate):\n",
    "            if(primeCandidate % factor == 0):\n",
    "                break\n",
    "        else:\n",
    "            print(primeCandidate)\n",
    "    primeCandidate += 1"
   ]
  }
 ],
 "metadata": {
  "kernelspec": {
   "display_name": "Python 3",
   "language": "python",
   "name": "python3"
  },
  "language_info": {
   "codemirror_mode": {
    "name": "ipython",
    "version": 3
   },
   "file_extension": ".py",
   "mimetype": "text/x-python",
   "name": "python",
   "nbconvert_exporter": "python",
   "pygments_lexer": "ipython3",
   "version": "3.12.11"
  }
 },
 "nbformat": 4,
 "nbformat_minor": 5
}
