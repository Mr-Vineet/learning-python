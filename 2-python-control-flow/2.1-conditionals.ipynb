{
 "cells": [
  {
   "cell_type": "code",
   "execution_count": null,
   "id": "4b2b6e62",
   "metadata": {},
   "outputs": [
    {
     "name": "stdout",
     "output_type": "stream",
     "text": [
      "you can vote!\n",
      "go to gov portal to register.\n"
     ]
    }
   ],
   "source": [
    "age = 122\n",
    "\n",
    "if (age >= 18):\n",
    "    print(\"you can vote!\")\n",
    "    print(\"go to gov portal to register.\")\n",
    "else:\n",
    "    print(\"Sry you can't vote.\")"
   ]
  },
  {
   "cell_type": "code",
   "execution_count": 12,
   "id": "7abeed25",
   "metadata": {},
   "outputs": [
    {
     "name": "stdout",
     "output_type": "stream",
     "text": [
      "The given number 45645 is positive\n",
      "The given number 45645 is odd\n"
     ]
    }
   ],
   "source": [
    "# To determine the type of a number\n",
    "\n",
    "num = int(input(\"enter the number:\"))\n",
    "\n",
    "if(num > 0):\n",
    "    print(\"The given number\", num, \"is positive\")\n",
    "    if(num % 2 == 0):\n",
    "        print(\"The given number\", num, \"is even\")\n",
    "    else:\n",
    "        print(\"The given number\", num, \"is odd\")\n",
    "else:\n",
    "    print(\"The given number\", num, \"is negative\")\n",
    "    "
   ]
  },
  {
   "cell_type": "code",
   "execution_count": null,
   "id": "ef006650",
   "metadata": {},
   "outputs": [
    {
     "name": "stdout",
     "output_type": "stream",
     "text": [
      "not eligible for foobar\n"
     ]
    }
   ],
   "source": [
    "# foobar program\n",
    "num = 1\n",
    "\n",
    "if(num % 15 == 0):\n",
    "    print(\"foobar\")\n",
    "\n",
    "elif(num % 5 == 0):\n",
    "    print(\"foo\")\n",
    "\n",
    "elif(num % 3 == 0):\n",
    "    print(\"bar\")\n",
    "    \n",
    "else:\n",
    "    print(\"not eligible for foobar\")"
   ]
  },
  {
   "cell_type": "code",
   "execution_count": null,
   "id": "87083ceb",
   "metadata": {},
   "outputs": [
    {
     "ename": "ValueError",
     "evalue": "invalid literal for int() with base 10: ''",
     "output_type": "error",
     "traceback": [
      "\u001b[31m---------------------------------------------------------------------------\u001b[39m",
      "\u001b[31mValueError\u001b[39m                                Traceback (most recent call last)",
      "\u001b[36mCell\u001b[39m\u001b[36m \u001b[39m\u001b[32mIn[26]\u001b[39m\u001b[32m, line 3\u001b[39m\n\u001b[32m      1\u001b[39m \u001b[38;5;66;03m# program to check if the given year is a leap year\u001b[39;00m\n\u001b[32m----> \u001b[39m\u001b[32m3\u001b[39m year = \u001b[38;5;28;43mint\u001b[39;49m\u001b[43m(\u001b[49m\u001b[38;5;28;43minput\u001b[39;49m\u001b[43m(\u001b[49m\u001b[33;43m\"\u001b[39;49m\u001b[33;43mEnter the year\u001b[39;49m\u001b[33;43m\"\u001b[39;49m\u001b[43m)\u001b[49m\u001b[43m)\u001b[49m\n\u001b[32m      5\u001b[39m \u001b[38;5;28;01mif\u001b[39;00m (year % \u001b[32m4\u001b[39m == \u001b[32m0\u001b[39m):\n\u001b[32m      6\u001b[39m     \u001b[38;5;28;01mif\u001b[39;00m (year % \u001b[32m100\u001b[39m ==\u001b[32m0\u001b[39m):\n",
      "\u001b[31mValueError\u001b[39m: invalid literal for int() with base 10: ''"
     ]
    }
   ],
   "source": [
    "# program to check if the given year is a leap year\n",
    "\n",
    "year = int(input(\"Enter the year\"))\n",
    "\n",
    "if (year % 4 == 0):\n",
    "    if (year % 100 ==0):\n",
    "        if(year % 400 == 0):\n",
    "            print(year, \"is a leap year\")\n",
    "        else:\n",
    "            print(year, \"is not a leap year\")\n",
    "    else:\n",
    "        print(year, \"is a leap year\")\n",
    "else:\n",
    "    print(year, \"is not a leap year\")"
   ]
  },
  {
   "cell_type": "code",
   "execution_count": 27,
   "id": "4141a1eb",
   "metadata": {},
   "outputs": [],
   "source": [
    "# write calculator program"
   ]
  },
  {
   "cell_type": "code",
   "execution_count": 28,
   "id": "46fbb73e",
   "metadata": {},
   "outputs": [],
   "source": [
    "# Program to check if the user is a student and above legal age to work"
   ]
  },
  {
   "cell_type": "code",
   "execution_count": null,
   "id": "86f58421",
   "metadata": {},
   "outputs": [],
   "source": []
  }
 ],
 "metadata": {
  "kernelspec": {
   "display_name": "Python 3",
   "language": "python",
   "name": "python3"
  },
  "language_info": {
   "codemirror_mode": {
    "name": "ipython",
    "version": 3
   },
   "file_extension": ".py",
   "mimetype": "text/x-python",
   "name": "python",
   "nbconvert_exporter": "python",
   "pygments_lexer": "ipython3",
   "version": "3.12.11"
  }
 },
 "nbformat": 4,
 "nbformat_minor": 5
}
