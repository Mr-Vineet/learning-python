{
 "cells": [
  {
   "cell_type": "code",
   "execution_count": null,
   "id": "81e223b1",
   "metadata": {},
   "outputs": [
    {
     "name": "stdout",
     "output_type": "stream",
     "text": [
      "{'name': 'Adil Ali', 'age': 21, 'grade': 90}\n"
     ]
    }
   ],
   "source": [
    "# Merging two dictionaries\n",
    "dict1 = {\"name\":\"Vineet\", \"age\":21}\n",
    "dict2 = {\"name\":\"Adil Ali\", \"grade\":90}\n",
    "\n",
    "merged = {**dict1, **dict2}\n",
    "print(merged)"
   ]
  },
  {
   "cell_type": "code",
   "execution_count": null,
   "id": "c3fcf93f",
   "metadata": {},
   "outputs": [
    {
     "name": "stdout",
     "output_type": "stream",
     "text": [
      "B\n",
      "32\n",
      "not in range\n"
     ]
    }
   ],
   "source": [
    "# Accessing dictionary elements\n",
    "student={\"name\":\"Krish\",\"age\":32,\"grade\":'A'}\n",
    "student[\"grade\"] = 'B'\n",
    "\n",
    "print(student[\"grade\"])\n",
    "print(student.get(\"age\"))\n",
    "print(student.get(\"full_name\", \"not in range\"))"
   ]
  },
  {
   "cell_type": "code",
   "execution_count": null,
   "id": "d60c0d30",
   "metadata": {},
   "outputs": [
    {
     "name": "stdout",
     "output_type": "stream",
     "text": [
      "name\n",
      "age\n",
      "grade\n",
      "Krish\n",
      "32\n",
      "A\n",
      "items ['name', 'Krish']\n",
      "items ['age', 32]\n",
      "items ['grade', 'A']\n",
      "name:Krish\n",
      "age:32\n",
      "grade:A\n"
     ]
    }
   ],
   "source": [
    "student = {\"name\":\"Krish\",\"age\":32,\"grade\":'A'}\n",
    "for key in student.keys():\n",
    "    print(key)\n",
    "\n",
    "for value in student.values():\n",
    "    print(value)\n",
    "\n",
    "for item in student.items():\n",
    "    print(\"items\", list(item))\n",
    "\n",
    "for k,v in student.items():\n",
    "    print(f\"{k}:{v}\")"
   ]
  },
  {
   "cell_type": "code",
   "execution_count": 35,
   "id": "86eb6d90",
   "metadata": {},
   "outputs": [
    {
     "data": {
      "text/plain": [
       "'Krish'"
      ]
     },
     "execution_count": 35,
     "metadata": {},
     "output_type": "execute_result"
    }
   ],
   "source": [
    "students={\n",
    "    \"student1\":{\"name\":\"Krish\",\"age\":32},\n",
    "    \"student2\":{\"name\":\"Peter\",\"age\":35}\n",
    "}\n",
    "\n",
    "students.get(\"student1\").get(\"name\")"
   ]
  },
  {
   "cell_type": "code",
   "execution_count": 41,
   "id": "5ad385f5",
   "metadata": {},
   "outputs": [
    {
     "name": "stdout",
     "output_type": "stream",
     "text": [
      "{2: 4, 4: 16, 6: 36, 8: 64}\n"
     ]
    }
   ],
   "source": [
    "# dictionary comprehension\n",
    "squares = {x: x ** 2 for x in range(1, 10) if x % 2 == 0}\n",
    "\n",
    "print(squares)"
   ]
  },
  {
   "cell_type": "code",
   "execution_count": null,
   "id": "83028fab",
   "metadata": {},
   "outputs": [
    {
     "name": "stdout",
     "output_type": "stream",
     "text": [
      "{1: 1, 2: 2, 3: 3, 4: 4}\n"
     ]
    }
   ],
   "source": [
    "## Practical Examples\n",
    "## Use a dictionary to count he frequency of elements in list\n",
    "\n",
    "numbers=[1,2,2,3,3,3,4,4,4,4]\n",
    "frequency = { number: numbers.count(number) for number in set(numbers)}\n",
    "\n",
    "# for num in numbers:\n",
    "#     print(frequency)\n",
    "#     if(num in frequency):\n",
    "#         frequency[num] += 1\n",
    "#     else:\n",
    "#         frequency[num] = 1\n",
    "        \n",
    "print(frequency)"
   ]
  },
  {
   "cell_type": "code",
   "execution_count": null,
   "id": "1df9f992",
   "metadata": {},
   "outputs": [
    {
     "name": "stdout",
     "output_type": "stream",
     "text": [
      "{1, 2, 3, 4}\n",
      "None\n",
      "{9}\n",
      "1\n",
      "2\n",
      "{3, 4, 9}\n"
     ]
    }
   ],
   "source": [
    "unique_nums = set(numbers)\n",
    "print(unique_nums)\n",
    "print(unique_nums.add(9))\n",
    "print(unique_nums.difference(numbers))\n",
    "print(unique_nums.difference_update())\n",
    "print(unique_nums)"
   ]
  }
 ],
 "metadata": {
  "kernelspec": {
   "display_name": "Python 3",
   "language": "python",
   "name": "python3"
  },
  "language_info": {
   "codemirror_mode": {
    "name": "ipython",
    "version": 3
   },
   "file_extension": ".py",
   "mimetype": "text/x-python",
   "name": "python",
   "nbconvert_exporter": "python",
   "pygments_lexer": "ipython3",
   "version": "3.12.11"
  }
 },
 "nbformat": 4,
 "nbformat_minor": 5
}
