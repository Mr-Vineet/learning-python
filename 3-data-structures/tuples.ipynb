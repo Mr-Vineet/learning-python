{
 "cells": [
  {
   "cell_type": "code",
   "execution_count": null,
   "id": "8e2ba7a9",
   "metadata": {},
   "outputs": [
    {
     "name": "stdout",
     "output_type": "stream",
     "text": [
      "<class 'tuple'>\n"
     ]
    }
   ],
   "source": [
    "empty_tuple = ()\n",
    "print(type(empty_tuple))    \n",
    "nums = list()\n"
   ]
  },
  {
   "cell_type": "code",
   "execution_count": 11,
   "id": "6cf1ee23",
   "metadata": {},
   "outputs": [
    {
     "name": "stdout",
     "output_type": "stream",
     "text": [
      "[1, 2, 3, 1, 2, 3]\n",
      "(1, 2, 3, 1, 2, 3)\n",
      "(2, 4, 6, 8)\n"
     ]
    }
   ],
   "source": [
    "nums.append(1)\n",
    "nums.append(2)\n",
    "nums.append(3)\n",
    "\n",
    "print(nums)\n",
    "\n",
    "my_tuples = tuple(nums)\n",
    "even_nums = (2, 4, 6, 8)\n",
    "\n",
    "print(my_tuples)\n",
    "print(even_nums)"
   ]
  },
  {
   "cell_type": "code",
   "execution_count": 12,
   "id": "5184ff9f",
   "metadata": {},
   "outputs": [
    {
     "name": "stdout",
     "output_type": "stream",
     "text": [
      "(1, 'Hello World', 3.14, True)\n"
     ]
    }
   ],
   "source": [
    "mixed_tuple=(1,\"Hello World\",3.14, True)\n",
    "print(mixed_tuple)"
   ]
  },
  {
   "cell_type": "code",
   "execution_count": null,
   "id": "8a7155a5",
   "metadata": {},
   "outputs": [
    {
     "name": "stdout",
     "output_type": "stream",
     "text": [
      "0 1\n",
      "1 2\n",
      "2 3\n",
      "3 4\n",
      "4 5\n",
      "5 6\n"
     ]
    }
   ],
   "source": [
    "numbers=tuple([1,2,3,4,5,6])\n",
    "numbers[::1]\n",
    "numbers[::-1]\n",
    "\n",
    "for i,n in enumerate(numbers):\n",
    "    print(i,n)\n"
   ]
  },
  {
   "cell_type": "code",
   "execution_count": 21,
   "id": "ee9e2496",
   "metadata": {},
   "outputs": [
    {
     "data": {
      "text/plain": [
       "3"
      ]
     },
     "execution_count": 21,
     "metadata": {},
     "output_type": "execute_result"
    }
   ],
   "source": [
    "# Tuple methods\n",
    "numbers.count(1)\n",
    "numbers.index(4)"
   ]
  },
  {
   "cell_type": "code",
   "execution_count": 36,
   "id": "8535164e",
   "metadata": {},
   "outputs": [
    {
     "name": "stdout",
     "output_type": "stream",
     "text": [
      "(1, 2, 3, 4, 5, 6, 'v', 'i', 'n', 'e', 'e', 't')\n"
     ]
    },
    {
     "data": {
      "text/plain": [
       "['v',\n",
       " 'i',\n",
       " 'n',\n",
       " 'e',\n",
       " 'e',\n",
       " 't',\n",
       " 'v',\n",
       " 'i',\n",
       " 'n',\n",
       " 'e',\n",
       " 'e',\n",
       " 't',\n",
       " 'v',\n",
       " 'i',\n",
       " 'n',\n",
       " 'e',\n",
       " 'e',\n",
       " 't']"
      ]
     },
     "execution_count": 36,
     "metadata": {},
     "output_type": "execute_result"
    }
   ],
   "source": [
    "## Tuple Operations\n",
    "letters = list(\"vineet\")\n",
    "\n",
    "concatenation_tuple = numbers + tuple(letters)\n",
    "print(concatenation_tuple)\n",
    "\n",
    "mixed_tuple * 2\n",
    "\n",
    "letters * 3"
   ]
  },
  {
   "cell_type": "code",
   "execution_count": 37,
   "id": "ad6757a3",
   "metadata": {},
   "outputs": [
    {
     "name": "stdout",
     "output_type": "stream",
     "text": [
      "(1, 'pika', 3.14)\n"
     ]
    }
   ],
   "source": [
    "# packing tuple\n",
    "packed_tuple = 1, \"pika\", 3.14\n",
    "\n",
    "print(packed_tuple)"
   ]
  },
  {
   "cell_type": "code",
   "execution_count": null,
   "id": "05469862",
   "metadata": {},
   "outputs": [
    {
     "name": "stdout",
     "output_type": "stream",
     "text": [
      "1 pika 3.14\n"
     ]
    }
   ],
   "source": [
    "# unpacking tuple\n",
    "a, b, c = packed_tuple\n",
    "\n",
    "print(a, b, c)"
   ]
  },
  {
   "cell_type": "code",
   "execution_count": 52,
   "id": "41971b22",
   "metadata": {},
   "outputs": [
    {
     "name": "stdout",
     "output_type": "stream",
     "text": [
      "Aman ['Kumar', 'Anshu'] Bharti\n"
     ]
    }
   ],
   "source": [
    "# unpacking with *\n",
    "full_name = \"Aman Kumar Anshu Bharti\"\n",
    "full_name = tuple(full_name.split())\n",
    "first_name, *middle, last_name = full_name\n",
    "\n",
    "print(first_name, middle, last_name)"
   ]
  },
  {
   "cell_type": "code",
   "execution_count": null,
   "id": "05437b3f",
   "metadata": {},
   "outputs": [
    {
     "name": "stdout",
     "output_type": "stream",
     "text": [
      "0 1 2 3 4 "
     ]
    }
   ],
   "source": [
    "for i in range(5):\n",
    "    print(i, end=\" \")\n",
    "    print()"
   ]
  }
 ],
 "metadata": {
  "kernelspec": {
   "display_name": "Python 3",
   "language": "python",
   "name": "python3"
  },
  "language_info": {
   "codemirror_mode": {
    "name": "ipython",
    "version": 3
   },
   "file_extension": ".py",
   "mimetype": "text/x-python",
   "name": "python",
   "nbconvert_exporter": "python",
   "pygments_lexer": "ipython3",
   "version": "3.12.11"
  }
 },
 "nbformat": 4,
 "nbformat_minor": 5
}
