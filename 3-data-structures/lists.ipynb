{
 "cells": [
  {
   "cell_type": "code",
   "execution_count": 29,
   "id": "67bcb525",
   "metadata": {},
   "outputs": [
    {
     "name": "stdout",
     "output_type": "stream",
     "text": [
      "mango\n",
      "['apple', 'banana']\n",
      "['banana']\n",
      "['mango']\n",
      "sapodilla\n",
      "None\n",
      "['apple', 'banana', 'melon', 'mango']\n"
     ]
    }
   ],
   "source": [
    "fruits = [\"apple\",\"banana\",\"mango\"]\n",
    "print(fruits[2])\n",
    "print(fruits[0:-1])\n",
    "print(fruits[1:-1])\n",
    "print(fruits[-1:])\n",
    "\n",
    "fruits.append(\"sapodilla\")\n",
    "print(fruits.pop())\n",
    "print(fruits.insert(2, \"melon\"))\n",
    "\n",
    "print(fruits)\n"
   ]
  },
  {
   "cell_type": "code",
   "execution_count": 46,
   "id": "0738b60c",
   "metadata": {},
   "outputs": [
    {
     "name": "stdout",
     "output_type": "stream",
     "text": [
      "4\n",
      "2\n"
     ]
    }
   ],
   "source": [
    "fruits = [\"apple\",\"leechi\",\"guava\",\"mango\",\"banana\"]\n",
    "\n",
    "index = fruits.index(\"banana\",3, fruits.__len__())\n",
    "print(index)\n",
    "\n",
    "fruits.insert(10, \"banana\")\n",
    "print(fruits.count(\"banana\"))"
   ]
  },
  {
   "cell_type": "code",
   "execution_count": 57,
   "id": "7dedc8bb",
   "metadata": {},
   "outputs": [
    {
     "name": "stdout",
     "output_type": "stream",
     "text": [
      "[]\n"
     ]
    }
   ],
   "source": [
    "fruits = [\"apple\",\"leechi\",\"guava\",\"mango\",\"banana\"]\n",
    "fruits.sort()\n",
    "fruits.reverse()\n",
    "fruits.clear()\n",
    "print(fruits)"
   ]
  },
  {
   "cell_type": "code",
   "execution_count": 71,
   "id": "9baad83b",
   "metadata": {},
   "outputs": [
    {
     "name": "stdout",
     "output_type": "stream",
     "text": [
      "[6, 5, 4, 3]\n",
      "[9, 6, 3]\n",
      "[1, 4, 7]\n"
     ]
    }
   ],
   "source": [
    "# slicing the list\n",
    "numbers = [1,2,3,4,5,6,7,8,9]\n",
    "\n",
    "print(numbers[5:1:-1])\n",
    "print(numbers[::-3])\n",
    "print(numbers[::3])"
   ]
  },
  {
   "cell_type": "code",
   "execution_count": 76,
   "id": "c7080609",
   "metadata": {},
   "outputs": [
    {
     "name": "stdout",
     "output_type": "stream",
     "text": [
      "0 1\n",
      "1 2\n",
      "2 3\n",
      "3 4\n",
      "4 5\n",
      "5 6\n",
      "6 7\n",
      "7 8\n",
      "8 9\n"
     ]
    }
   ],
   "source": [
    "# iterating over list\n",
    "for index, number in enumerate(numbers):\n",
    "    print(index, number)"
   ]
  },
  {
   "cell_type": "code",
   "execution_count": 92,
   "id": "cf4b06a7",
   "metadata": {},
   "outputs": [
    {
     "name": "stdout",
     "output_type": "stream",
     "text": [
      "[0, 1, 4, 9, 16, 25, 36, 49, 64, 81]\n",
      "[0, 1, 4, 9, 16, 25, 36, 49, 64, 81]\n",
      "[4, 16, 36, 64]\n"
     ]
    }
   ],
   "source": [
    "# list comprehension\n",
    "lst = []\n",
    "for i in range(10):\n",
    "    lst.append(i ** 2)\n",
    "\n",
    "print(lst)\n",
    "\n",
    "# can also be performed like this-\n",
    "#   [expression for item in iterable]\n",
    "# with conditions-\n",
    "#   [expression for item in iterable if condition]\n",
    "# nested list comprehension\n",
    "#   [expression for item1 in iterable1 for item2 in iterable2]\n",
    "\n",
    "squares  = [num ** 2 for num in range(10)]\n",
    "even_numbers_squares  = [num ** 2 for num in range(1, 10) if num % 2 == 0]\n",
    "\n",
    "print(squares)\n",
    "print(even_numbers_squares)\n"
   ]
  },
  {
   "cell_type": "code",
   "execution_count": null,
   "id": "502a16f6",
   "metadata": {},
   "outputs": [],
   "source": [
    "numbers = [1, 2, 3, 4]\n",
    "letters = [\"a\", \"b\", \"c\", \"d\"]\n",
    "\n",
    "pairs = [[number, letter] for number in numbers for letter in letters if(number != 2)]\n",
    "print(pairs)    "
   ]
  },
  {
   "cell_type": "code",
   "execution_count": 88,
   "id": "f6525a32",
   "metadata": {},
   "outputs": [
    {
     "name": "stdout",
     "output_type": "stream",
     "text": [
      "[5, 5, 5]\n"
     ]
    }
   ],
   "source": [
    "fruits = [\"apple\",\"leechi\",\"guava\",\"mango\",\"banana\"]\n",
    "word_len = [ len(fruit) for fruit in fruits if(len(fruit) < 6)]\n",
    "\n",
    "print(word_len)"
   ]
  }
 ],
 "metadata": {
  "kernelspec": {
   "display_name": "Python 3",
   "language": "python",
   "name": "python3"
  },
  "language_info": {
   "codemirror_mode": {
    "name": "ipython",
    "version": 3
   },
   "file_extension": ".py",
   "mimetype": "text/x-python",
   "name": "python",
   "nbconvert_exporter": "python",
   "pygments_lexer": "ipython3",
   "version": "3.12.11"
  }
 },
 "nbformat": 4,
 "nbformat_minor": 5
}
